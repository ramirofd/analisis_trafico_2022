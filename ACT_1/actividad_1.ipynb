{
 "cells": [
  {
   "cell_type": "code",
   "execution_count": 1,
   "metadata": {
    "collapsed": true,
    "pycharm": {
     "name": "#%%\n"
    }
   },
   "outputs": [
    {
     "name": "stdout",
     "output_type": "stream",
     "text": [
      "Collecting scapy\n",
      "  Downloading scapy-2.4.5.tar.gz (1.1 MB)\n",
      "Building wheels for collected packages: scapy\n",
      "  Building wheel for scapy (setup.py): started\n",
      "  Building wheel for scapy (setup.py): finished with status 'done'\n",
      "  Created wheel for scapy: filename=scapy-2.4.5-py2.py3-none-any.whl size=1261554 sha256=5cc4d04345fa92e28643e4892441e5fbd45501a28e3450eae3f3b20f9ac8d13e\n",
      "  Stored in directory: c:\\users\\ramir\\appdata\\local\\pip\\cache\\wheels\\c8\\9b\\2f\\012f0dbaf869afac8be52d4423f34eaa0b6c5c2d1292e40ebd\n",
      "Successfully built scapy\n",
      "Installing collected packages: scapy\n",
      "Successfully installed scapy-2.4.5\n"
     ]
    }
   ],
   "source": [
    "!pip install scapy"
   ]
  },
  {
   "cell_type": "code",
   "execution_count": 2,
   "outputs": [
    {
     "data": {
      "text/plain": "45066"
     },
     "execution_count": 2,
     "metadata": {},
     "output_type": "execute_result"
    }
   ],
   "source": [
    "from scapy.all import *\n",
    "original = rdpcap('dump.pcap')\n",
    "len(original)"
   ],
   "metadata": {
    "collapsed": false,
    "pycharm": {
     "name": "#%%\n"
    }
   }
  },
  {
   "cell_type": "code",
   "execution_count": 57,
   "outputs": [],
   "source": [
    "# pcap = original\n",
    "pcap = []\n",
    "for packet in original:\n",
    "    if packet.src == '18:c0:4d:36:21:e3':\n",
    "        pcap.append(packet)\n",
    "pcap = pcap[:500]\n",
    "# PacketList(pcap).summary()\n"
   ],
   "metadata": {
    "collapsed": false,
    "pycharm": {
     "name": "#%%\n"
    }
   }
  },
  {
   "cell_type": "code",
   "execution_count": 61,
   "outputs": [
    {
     "data": {
      "text/plain": "<Figure size 576x432 with 1 Axes>",
      "image/png": "[encoded data removed]"
     },
     "metadata": {
      "needs_background": "light"
     },
     "output_type": "display_data"
    }
   ],
   "source": [
    "#Podemos crear listas con los valores de los datos capturados\n",
    "times = [pcap[i].time for i in range(len(pcap))]\n",
    "#times\n",
    "deltas = [(times[i+1]-times[i])*1000 for i in range(len(times)-1)]\n",
    "import matplotlib.pyplot as plt\n",
    "import numpy as np\n",
    "bins = np.arange(0, 200, 15)\n",
    "plt.figure(figsize=(8, 6))\n",
    "plt.hist(deltas, bins=bins)\n",
    "plt.xlabel('Arrival Time Deltas [ms]')\n",
    "plt.ylabel('Count')\n",
    "plt.show()"
   ],
   "metadata": {
    "collapsed": false,
    "pycharm": {
     "name": "#%%\n"
    }
   }
  },
  {
   "cell_type": "code",
   "execution_count": 66,
   "outputs": [
    {
     "data": {
      "text/plain": "<Figure size 576x432 with 1 Axes>",
      "image/png": "[encoded data removed]"
     },
     "metadata": {
      "needs_background": "light"
     },
     "output_type": "display_data"
    }
   ],
   "source": [
    "sizes = [pcap[i].len for i in range(len(pcap))]\n",
    "import matplotlib.pyplot as plt\n",
    "import numpy as np\n",
    "bins = np.arange(30, 200, 15)\n",
    "plt.figure(figsize=(8, 6))\n",
    "plt.hist(sizes, bins=bins)\n",
    "plt.xlabel('Package Size [bytes]')\n",
    "plt.ylabel('Count')\n",
    "plt.show()"
   ],
   "metadata": {
    "collapsed": false,
    "pycharm": {
     "name": "#%%\n"
    }
   }
  },
  {
   "cell_type": "code",
   "execution_count": 94,
   "outputs": [
    {
     "data": {
      "text/plain": "<Figure size 432x288 with 0 Axes>"
     },
     "metadata": {},
     "output_type": "display_data"
    },
    {
     "data": {
      "text/plain": "<Figure size 1296x288 with 3 Axes>",
      "image/png": "[encoded data removed]"
     },
     "metadata": {
      "needs_background": "light"
     },
     "output_type": "display_data"
    }
   ],
   "source": [
    "plt.figure()\n",
    "fig, (uniform, binomial, geometric) = plt.subplots(1, 3, figsize=(18, 4))\n",
    "\n",
    "# fig.suptitle('Ejemplo de distribuciones estadísticas')\n",
    "import numpy as np\n",
    "t = 500 #@param {type:\"slider\", min:1, max:1000, step:1}\n",
    "randvals = [np.random.random() for i in range(t)]\n",
    "uniform.hist(randvals)\n",
    "uniform.set_title('(a)')\n",
    "\n",
    "from scipy.stats import binom\n",
    "n = 10 #@param {type:\"slider\", min:1, max:100, step:1}\n",
    "p = 0.4 #@param {type:\"slider\", min:0, max:1, step:0.01}\n",
    "t = 500 #@param {type:\"slider\", min:1, max:1000, step:1}\n",
    "randproc = binom(n,p)\n",
    "randvals = randproc.rvs(t)\n",
    "binomial.hist(randvals)\n",
    "binomial.set_title('(b)')\n",
    "\n",
    "from scipy.stats import geom\n",
    "p = 0.5 #@param {type:\"slider\", min:0, max:1, step:0.01}\n",
    "t = 500 #@param {type:\"slider\", min:1, max:10000, step:1}\n",
    "randproc = geom(p)\n",
    "randvals = randproc.rvs(t)\n",
    "import matplotlib.pyplot as plt\n",
    "geometric.hist(randvals)\n",
    "geometric.set_title('(c)')\n",
    "\n",
    "\n",
    "plt.show()"
   ],
   "metadata": {
    "collapsed": false,
    "pycharm": {
     "name": "#%%\n"
    }
   }
  },
  {
   "cell_type": "code",
   "execution_count": 12,
   "outputs": [
    {
     "name": "stdout",
     "output_type": "stream",
     "text": [
      "0 & 1.00000 & 0.00000 & 0.00000 & 0.00000\n",
      "1 & 0.00000 & 0.30000 & 0.70000 & 0.00000\n",
      "2 & 0.27000 & 0.38500 & 0.00000 & 0.34500\n",
      "3 & 0.51900 & 0.08100 & 0.18900 & 0.21100\n",
      "4 & 0.17840 & 0.25965 & 0.36330 & 0.19865\n",
      "5 & 0.33301 & 0.25333 & 0.12488 & 0.28878\n",
      "6 & 0.37239 & 0.16859 & 0.23311 & 0.22592\n",
      "7 & 0.26469 & 0.23993 & 0.26067 & 0.23472\n",
      "8 & 0.33329 & 0.22278 & 0.18528 & 0.25865\n",
      "9 & 0.32982 & 0.20189 & 0.23330 & 0.23498\n",
      "10 & 0.29919 & 0.22726 & 0.23088 & 0.24267\n",
      "11 & 0.32587 & 0.21674 & 0.20943 & 0.24795\n",
      "12 & 0.31904 & 0.21295 & 0.22811 & 0.23990\n",
      "13 & 0.31160 & 0.22117 & 0.22333 & 0.24389\n",
      "14 & 0.32100 & 0.21631 & 0.21812 & 0.24456\n",
      "15 & 0.31696 & 0.21627 & 0.22470 & 0.24207\n"
     ]
    }
   ],
   "source": [
    "import numpy as np\n",
    "\n",
    "\n",
    "mkv_chn = np.matrix([[0, 0.3, 0.7, 0],\n",
    "                      [0.9, 0, 0, 0.1],\n",
    "                      [0, 0.55, 0, 0.45],\n",
    "                      [0.5, 0, 0, 0.5]])\n",
    "initial = np.matrix([1, 0, 0, 0])\n",
    "\n",
    "for n in range(0,16):\n",
    "    vec = np.asarray(initial*mkv_chn**n).reshape(-1)\n",
    "    # print(np.asarray(vec).reshape(-1))\n",
    "    print(f'{n} & {vec[0]:.5f} & {vec[1]:.5f} & {vec[2]:.5f} & {vec[3]:.5f}')"
   ],
   "metadata": {
    "collapsed": false,
    "pycharm": {
     "name": "#%%\n"
    }
   }
  },
  {
   "cell_type": "code",
   "execution_count": null,
   "outputs": [],
   "source": [],
   "metadata": {
    "collapsed": false,
    "pycharm": {
     "name": "#%%\n"
    }
   }
  }
 ],
 "metadata": {
  "kernelspec": {
   "display_name": "Python 3",
   "language": "python",
   "name": "python3"
  },
  "language_info": {
   "codemirror_mode": {
    "name": "ipython",
    "version": 2
   },
   "file_extension": ".py",
   "mimetype": "text/x-python",
   "name": "python",
   "nbconvert_exporter": "python",
   "pygments_lexer": "ipython2",
   "version": "2.7.6"
  }
 },
 "nbformat": 4,
 "nbformat_minor": 0
}